{
 "cells": [
  {
   "cell_type": "code",
   "execution_count": null,
   "metadata": {},
   "outputs": [],
   "source": [
    "import pandas as pd\n",
    "import numpy as np\n",
    "from array import array\n",
    "import ROOT\n",
    "import matplotlib.pyplot as plt\n",
    "from scipy.optimize import curve_fit"
   ]
  },
  {
   "cell_type": "code",
   "execution_count": null,
   "metadata": {},
   "outputs": [],
   "source": [
    "def FitFunction(x, a, b):\n",
    "    return a*x+b"
   ]
  },
  {
   "cell_type": "code",
   "execution_count": null,
   "metadata": {},
   "outputs": [],
   "source": [
    "def GetDataArrays (df):\n",
    "    voltage = df.Tensione\n",
    "    voltage_err = df.errore_tensione\n",
    "    channel = df.media\n",
    "    channel_err = df.errore\n",
    "    \n",
    "    return voltage, voltage_err, channel, channel_err"
   ]
  },
  {
   "cell_type": "code",
   "execution_count": null,
   "metadata": {},
   "outputs": [],
   "source": [
    "def PlotMCAConversion(df):\n",
    "    voltage, voltage_err, channel, channel_err = GetDataArrays(df)\n",
    "    \n",
    "    plt.errorbar(voltage, channel, xerr=voltage_err, yerr=channel_err, fmt=\".r\")\n",
    "    plt.title(\"MCA Conversion Linearity\")\n",
    "    plt.xlabel(\"Tension [V]\")\n",
    "    plt.ylabel(\"Channel Number\")\n",
    "    plt.grid(True)"
   ]
  },
  {
   "cell_type": "code",
   "execution_count": null,
   "metadata": {},
   "outputs": [],
   "source": [
    "def LinearFit(df):\n",
    "    voltage = df.Tensione\n",
    "    channel = df.media\n",
    "    \n",
    "    par, pcov = curve_fit(FitFunction, voltage, channel)\n",
    "    return par, pcov"
   ]
  },
  {
   "cell_type": "markdown",
   "metadata": {},
   "source": [
    "# MCA conversion linearity\n",
    "\n",
    "We had some issues with the MCA conversion linearity measurements: instead of having a single peak centered corrisponding to a given pulse, we kept having a double peak. We tried changing amplifier, then we changed pulser and the double peak kept showing up. We thus started removing modules from the crate and the lowest of the two peaks started to decrease. We interpreted it as a noise given by the crate and fitted the highest peak, the lowest one and finally both peaks with a Gaussian."
   ]
  },
  {
   "cell_type": "code",
   "execution_count": null,
   "metadata": {},
   "outputs": [],
   "source": [
    "# load data; we need to convert files from .ods to .xlsx\n",
    "xls = pd.ExcelFile(\"./dati/Dati_line.xlsx\")\n",
    "# dataframe for each of the three casese (header00 is set to avoid titles)\n",
    "df1 = pd.read_excel(xls, 'picco grande', header=0)\n",
    "df2 = pd.read_excel(xls, 'picco piccolo', header=0)\n",
    "df3 = pd.read_excel(xls, 'centroide', header=0)"
   ]
  },
  {
   "cell_type": "markdown",
   "metadata": {},
   "source": [
    "## Highest peak"
   ]
  },
  {
   "cell_type": "code",
   "execution_count": null,
   "metadata": {},
   "outputs": [],
   "source": [
    "PlotMCAConversion(df1)"
   ]
  },
  {
   "cell_type": "code",
   "execution_count": null,
   "metadata": {},
   "outputs": [],
   "source": [
    "par, pcov = LinearFit(df1)"
   ]
  },
  {
   "cell_type": "code",
   "execution_count": null,
   "metadata": {},
   "outputs": [],
   "source": [
    "diff = df1.media-FitFunction(df1.Tensione, *par)\n",
    "diff = diff/FitFunction(df1.Tensione, *par)\n",
    "plt.errorbar(df1.Tensione, diff,yerr=df1.errore/FitFunction(df1.Tensione, *par), fmt=\".r\")\n",
    "plt.axhline(y=0)\n",
    "plt.xlabel(\"Voltage [V]\")\n",
    "plt.ylabel(\"Residue\")\n",
    "plt.grid(True)"
   ]
  },
  {
   "cell_type": "markdown",
   "metadata": {},
   "source": [
    "## Lowest peak"
   ]
  },
  {
   "cell_type": "code",
   "execution_count": null,
   "metadata": {},
   "outputs": [],
   "source": [
    "PlotMCAConversion(df2)"
   ]
  },
  {
   "cell_type": "code",
   "execution_count": null,
   "metadata": {},
   "outputs": [],
   "source": [
    "par, pcov = LinearFit(df2)"
   ]
  },
  {
   "cell_type": "code",
   "execution_count": null,
   "metadata": {},
   "outputs": [],
   "source": [
    "diff = df2.media-FitFunction(df2.Tensione, *par)\n",
    "diff = diff/FitFunction(df2.Tensione, *par)\n",
    "plt.errorbar(df2.Tensione, diff,yerr=df2.errore/FitFunction(df2.Tensione, *par), fmt=\".r\")\n",
    "plt.axhline(y=0)\n",
    "plt.xlabel(\"Voltage [V]\")\n",
    "plt.ylabel(\"Residue\")\n",
    "plt.grid(True)"
   ]
  },
  {
   "cell_type": "markdown",
   "metadata": {},
   "source": [
    "## Centroid"
   ]
  },
  {
   "cell_type": "code",
   "execution_count": null,
   "metadata": {},
   "outputs": [],
   "source": [
    "PlotMCAConversion(df2)"
   ]
  },
  {
   "cell_type": "code",
   "execution_count": null,
   "metadata": {},
   "outputs": [],
   "source": [
    "par, pcov = LinearFit(df2)"
   ]
  },
  {
   "cell_type": "code",
   "execution_count": null,
   "metadata": {},
   "outputs": [],
   "source": [
    "diff = df3.media-FitFunction(df3.Tensione, *par)\n",
    "diff = diff/FitFunction(df3.Tensione, *par)\n",
    "plt.errorbar(df3.Tensione, diff,yerr=df3.errore/FitFunction(df3.Tensione, *par), fmt=\".r\")\n",
    "plt.axhline(y=0)\n",
    "plt.xlabel(\"Voltage [V]\")\n",
    "plt.ylabel(\"Residue\")\n",
    "plt.grid(True)"
   ]
  },
  {
   "cell_type": "markdown",
   "metadata": {},
   "source": [
    "## ROOT version of the script"
   ]
  },
  {
   "cell_type": "code",
   "execution_count": null,
   "metadata": {},
   "outputs": [],
   "source": [
    "voltage = (df1['Tensione']).to_numpy()\n",
    "channel = (df1['media']).to_numpy()\n",
    "errore_media = (df1['errore']).to_numpy()\n",
    "errore_tensione = (df1['errore_tensione']).to_numpy()\n",
    "n = np.size(channel)"
   ]
  },
  {
   "cell_type": "code",
   "execution_count": null,
   "metadata": {},
   "outputs": [],
   "source": [
    "graph = ROOT.TGraphErrors(n, voltage, channel, errore_tensione, errore_media)\n",
    "cnv = ROOT.TCanvas(\"\", \"\", 800, 700)"
   ]
  },
  {
   "cell_type": "code",
   "execution_count": null,
   "metadata": {},
   "outputs": [],
   "source": [
    "graph.GetXaxis().SetTitle(\"Voltage [V]\")\n",
    "graph.GetYaxis().SetTitle(\"Channel\")\n",
    "graph.SetMarkerStyle(20)\n",
    "graph.Draw(\"AP\")"
   ]
  },
  {
   "cell_type": "code",
   "execution_count": null,
   "metadata": {},
   "outputs": [],
   "source": [
    "cnv.Draw()"
   ]
  },
  {
   "cell_type": "code",
   "execution_count": null,
   "metadata": {},
   "outputs": [],
   "source": []
  }
 ],
 "metadata": {
  "kernelspec": {
   "display_name": "Python 3",
   "language": "python",
   "name": "python3"
  },
  "language_info": {
   "codemirror_mode": {
    "name": "ipython",
    "version": 3
   },
   "file_extension": ".py",
   "mimetype": "text/x-python",
   "name": "python",
   "nbconvert_exporter": "python",
   "pygments_lexer": "ipython3",
   "version": "3.7.4"
  }
 },
 "nbformat": 4,
 "nbformat_minor": 2
}
