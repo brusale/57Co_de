{
 "cells": [
  {
   "cell_type": "code",
   "execution_count": null,
   "metadata": {},
   "outputs": [],
   "source": [
    "import pandas as pd\n",
    "import numpy as np\n",
    "from array import array\n",
    "import ROOT\n",
    "import matplotlib.pyplot as plt\n",
    "from scipy.optimize import curve_fit\n",
    "\n",
    "%matplotlib notebook"
   ]
  },
  {
   "cell_type": "code",
   "execution_count": null,
   "metadata": {},
   "outputs": [],
   "source": [
    "def FitFunction(x, a, b):\n",
    "    return a*x+b"
   ]
  },
  {
   "cell_type": "code",
   "execution_count": null,
   "metadata": {},
   "outputs": [],
   "source": [
    "def GetDataArrays (df):\n",
    "    delay = df['Delay (ns)']\n",
    "    channel = df['Media']\n",
    "    channel_err = df['Err. Media']\n",
    "    \n",
    "    return delay, channel, channel_err"
   ]
  },
  {
   "cell_type": "code",
   "execution_count": null,
   "metadata": {},
   "outputs": [],
   "source": [
    "def PlotTACConversion(df):\n",
    "    delay, channel, channel_err = GetDataArrays(df)\n",
    "    \n",
    "    plt.errorbar(delay, channel, yerr=channel_err, fmt=\".r\")\n",
    "    plt.title(\"TAC Conversion Linearity\")\n",
    "    plt.xlabel(\"Delay [ns]\")\n",
    "    plt.ylabel(\"Channel Number\")\n",
    "    plt.grid(True)"
   ]
  },
  {
   "cell_type": "code",
   "execution_count": null,
   "metadata": {},
   "outputs": [],
   "source": [
    "def LinearFit(df):\n",
    "    delay = df['Delay (ns)']\n",
    "    channel = df['Media']\n",
    "    \n",
    "    par, pcov = curve_fit(FitFunction, delay, channel)\n",
    "    return par, pcov"
   ]
  },
  {
   "cell_type": "markdown",
   "metadata": {},
   "source": [
    "# TAC conversion linearity\n",
    "\n",
    "We now do the same thing we did for MCA linearity for TAC; we are going to plot the delay interval value versus the channel number. We use a pulser to do this calibration; the generated pulse is sent into an amplifier in order to get a shaping of it. From here the pulse is splitted and sent to two different TiSCA's; we do not apply any delay to the one that we use as a start in the TAC while the delay is applied to the second, which will be the stop signal. The TAC converts the time delay between the two signals into a pulse which is recorded by the MCA."
   ]
  },
  {
   "cell_type": "code",
   "execution_count": null,
   "metadata": {},
   "outputs": [],
   "source": [
    "# load data; we need to convert files from .ods to .xlsx\n",
    "xls = pd.ExcelFile(\"./dati/TAC.xlsx\")\n",
    "# dataframe for each of the three casese (header=0 is set to avoid titles)\n",
    "df1 = pd.read_excel(xls, 'Linearità', header=0)"
   ]
  },
  {
   "cell_type": "code",
   "execution_count": null,
   "metadata": {
    "scrolled": false
   },
   "outputs": [],
   "source": [
    "PlotTACConversion(df1)"
   ]
  },
  {
   "cell_type": "code",
   "execution_count": null,
   "metadata": {},
   "outputs": [],
   "source": [
    "par, pcov = LinearFit(df1)"
   ]
  },
  {
   "cell_type": "code",
   "execution_count": null,
   "metadata": {},
   "outputs": [],
   "source": [
    "par"
   ]
  },
  {
   "cell_type": "code",
   "execution_count": null,
   "metadata": {},
   "outputs": [],
   "source": [
    "diff = df1['Media']-FitFunction(df1['Delay (ns)'], *par)\n",
    "diff = diff/FitFunction(df1['Delay (ns)'], *par)\n",
    "plt.errorbar(df1['Delay (ns)'], diff,yerr=df1['Err. Media']/FitFunction(df1['Delay (ns)'], *par), fmt=\".r\")\n",
    "plt.axhline(y=0)\n",
    "plt.xlabel(\"Delay [ns]\")\n",
    "plt.ylabel(\"Residue\")\n",
    "plt.grid(True)"
   ]
  },
  {
   "cell_type": "markdown",
   "metadata": {},
   "source": [
    "## ROOT version of the script"
   ]
  },
  {
   "cell_type": "code",
   "execution_count": null,
   "metadata": {},
   "outputs": [],
   "source": [
    "delay = (df1['Delay (ns)']).to_numpy()\n",
    "media = (df1['Media']).to_numpy()\n",
    "err_media = (df1['Err. Media']).to_numpy()\n",
    "n = np.size(media)\n",
    "\n",
    "err_x = np.empty(n)\n",
    "err_x.fill(0.00001)"
   ]
  },
  {
   "cell_type": "code",
   "execution_count": null,
   "metadata": {},
   "outputs": [],
   "source": [
    "graph = ROOT.TGraphErrors(n, delay, media, err_x,  err_media)\n",
    "cnv = ROOT.TCanvas(\"\", \"\", 800, 700)"
   ]
  },
  {
   "cell_type": "code",
   "execution_count": null,
   "metadata": {},
   "outputs": [],
   "source": [
    "graph.GetXaxis().SetTitle(\"Delay [ns]\")\n",
    "graph.GetYaxis().SetTitle(\"Channel\")\n",
    "graph.SetMarkerStyle(20)\n",
    "graph.Draw(\"AP\")"
   ]
  },
  {
   "cell_type": "code",
   "execution_count": null,
   "metadata": {},
   "outputs": [],
   "source": [
    "cnv.Draw()"
   ]
  },
  {
   "cell_type": "code",
   "execution_count": null,
   "metadata": {},
   "outputs": [],
   "source": []
  }
 ],
 "metadata": {
  "kernelspec": {
   "display_name": "Python 3",
   "language": "python",
   "name": "python3"
  },
  "language_info": {
   "codemirror_mode": {
    "name": "ipython",
    "version": 3
   },
   "file_extension": ".py",
   "mimetype": "text/x-python",
   "name": "python",
   "nbconvert_exporter": "python",
   "pygments_lexer": "ipython3",
   "version": "3.7.4"
  }
 },
 "nbformat": 4,
 "nbformat_minor": 2
}
