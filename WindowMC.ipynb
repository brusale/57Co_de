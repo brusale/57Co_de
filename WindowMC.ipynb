{
 "cells": [
  {
   "cell_type": "code",
   "execution_count": null,
   "metadata": {},
   "outputs": [],
   "source": [
    "import numpy as np\n",
    "import matplotlib.pyplot as plt\n",
    "\n",
    "%matplotlib notebook"
   ]
  },
  {
   "cell_type": "code",
   "execution_count": null,
   "metadata": {},
   "outputs": [],
   "source": [
    "def gaussian(x, constant, mean, sigma):\n",
    "    return constant*np.exp(-(x-mean)**2/(2*sigma**2))"
   ]
  },
  {
   "cell_type": "code",
   "execution_count": null,
   "metadata": {},
   "outputs": [],
   "source": [
    "def AreaMC(threshold1, threshold2):\n",
    "    Area122 = 0\n",
    "    Area136 = 0\n",
    "    BKG = 0\n",
    "    AreaTot = 0\n",
    "    for i in range(0, 1000):\n",
    "        x1 = np.random.randint(threshold1, threshold2)\n",
    "        x2 = np.random.randint(0, 50000)\n",
    "        \n",
    "        if (x2 < gaussian(x1, 4.79623e+04, 3.78772e+03, 1.89998e+02)):\n",
    "            Area122 += 1\n",
    "            \n",
    "        if (x2 < gaussian(x1, 5.15635e+03,  4.18016e+03, 2.00907e+02)):\n",
    "            Area136 += 1\n",
    "            \n",
    "        if (x2 < 0.003023*(x1**2)-29.15*x1+7.061e04):\n",
    "            BKG += 1\n",
    "            \n",
    "    AreaTot = Area136+Area122+BKG\n",
    "            \n",
    "    return Area122, Area136, AreaTot, BKG"
   ]
  },
  {
   "cell_type": "code",
   "execution_count": null,
   "metadata": {},
   "outputs": [],
   "source": [
    "x = np.linspace(3000, 5000, 10000)\n",
    "\n",
    "count122 = 4.79623e+04\n",
    "mean122 = 3.78772e+03\n",
    "sigma122 = 1.89998e+02\n",
    "\n",
    "count136 = 5.15635e+03\n",
    "mean136 = 4.18016e+03\n",
    "sigma136 = 2.00907e+02"
   ]
  },
  {
   "cell_type": "code",
   "execution_count": null,
   "metadata": {},
   "outputs": [],
   "source": [
    "plt.plot(x, gaussian(x, count122, mean122, sigma122), label=\"122 peak\")\n",
    "plt.plot(x, gaussian(x, count136, mean136, sigma136), label=\"136 peak\")\n",
    "plt.plot(x, 0.003023*(x**2)-29.15*x+7.061e04, label=\"background\")\n",
    "plt.plot(x, gaussian(x, count122, mean122, sigma122)+gaussian(x, count136, mean136, sigma136)+0.003023*(x**2)-29.15*x+7.061e04, label=\"total\")\n",
    "plt.grid(True)\n",
    "plt.legend()\n",
    "plt.xlabel(\"Channel\")\n",
    "plt.ylabel(\"Counts\")"
   ]
  },
  {
   "cell_type": "code",
   "execution_count": null,
   "metadata": {},
   "outputs": [],
   "source": [
    "Area122, Area136, AreaTot, uld, BKG = [], [], [], [], []\n",
    "for i in range(3750, 4500):\n",
    "    area122, area136, areaTot, bkg = AreaMC(3500, i)\n",
    "    Area122 = np.append(Area122, area122)\n",
    "    Area136 = np.append(Area136, area136)\n",
    "    AreaTot = np.append(AreaTot, areaTot)\n",
    "    BKG = np.append(BKG, bkg)\n",
    "    uld = np.append(uld, i)"
   ]
  },
  {
   "cell_type": "code",
   "execution_count": null,
   "metadata": {},
   "outputs": [],
   "source": []
  }
 ],
 "metadata": {
  "kernelspec": {
   "display_name": "Python 3",
   "language": "python",
   "name": "python3"
  },
  "language_info": {
   "codemirror_mode": {
    "name": "ipython",
    "version": 3
   },
   "file_extension": ".py",
   "mimetype": "text/x-python",
   "name": "python",
   "nbconvert_exporter": "python",
   "pygments_lexer": "ipython3",
   "version": "3.7.4"
  }
 },
 "nbformat": 4,
 "nbformat_minor": 2
}
